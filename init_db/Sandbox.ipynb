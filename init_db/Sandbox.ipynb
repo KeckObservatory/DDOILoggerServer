{
 "cells": [
  {
   "cell_type": "code",
   "execution_count": 154,
   "id": "acca92f1-4f27-4e99-a3dc-c035eb2c4939",
   "metadata": {},
   "outputs": [],
   "source": [
    "from pymongo import MongoClient\n",
    "import os\n",
    "from datetime import datetime\n",
    "import requests"
   ]
  },
  {
   "cell_type": "code",
   "execution_count": 63,
   "id": "4e55c423-9736-4a3e-a32e-763eaf109e30",
   "metadata": {},
   "outputs": [],
   "source": [
    "def get_mongodb():\n",
    "    client = MongoClient(port = 27017)\n",
    "    return client['logs']"
   ]
  },
  {
   "cell_type": "code",
   "execution_count": 64,
   "id": "1d44d924-0aeb-4d6a-a9ce-1ad57ee5638c",
   "metadata": {},
   "outputs": [],
   "source": [
    "db_client = get_mongodb()"
   ]
  },
  {
   "cell_type": "code",
   "execution_count": 136,
   "id": "eb40c8f2-b4f4-4abd-bf1e-a8af3219b27a",
   "metadata": {},
   "outputs": [
    {
     "name": "stdout",
     "output_type": "stream",
     "text": [
      "{'utc_received': {'$lt': datetime.datetime(2022, 10, 19, 0, 0), '$gte': datetime.datetime(2022, 10, 10, 0, 0)}, 'subsystem': 'MOSFIRE'}\n"
     ]
    },
    {
     "data": {
      "text/plain": [
       "{'_id': ObjectId('634e06c76fbd048486ef0f6b'),\n",
       " 'utc_sent': '2022-10-18 01:52:07.',\n",
       " 'utc_received': datetime.datetime(2022, 10, 18, 1, 52, 7, 485000),\n",
       " 'hostname': \"worker-b'worker-MOSFIRE'\",\n",
       " 'level': 'INFO',\n",
       " 'subsystem': 'MOSFIRE',\n",
       " 'author': 'ttucker',\n",
       " 'SEMID': None,\n",
       " 'PROGID': None,\n",
       " 'message': 'The colorful invader whips llama.'}"
      ]
     },
     "execution_count": 136,
     "metadata": {},
     "output_type": "execute_result"
    }
   ],
   "source": [
    "startDate = datetime.strptime('2022-10-10', '%Y-%m-%d')\n",
    "endDate = datetime.strptime('2022-10-19', '%Y-%m-%d')\n",
    "subsystem = 'MOSFIRE'\n",
    "query = {}\n",
    "\n",
    "query['utc_received'] = {'$lt': endDate, '$gte': startDate}\n",
    "query['subsystem'] = subsystem\n",
    "print(query)\n",
    "cursor = db_client.logs.find(query)\n",
    "results = [ x for x in cursor ]\n",
    "len(results)\n",
    "results[0]"
   ]
  },
  {
   "cell_type": "code",
   "execution_count": null,
   "id": "ea91bec0-f4d5-4a56-aeae-d6791366f5ba",
   "metadata": {},
   "outputs": [],
   "source": []
  },
  {
   "cell_type": "code",
   "execution_count": 172,
   "id": "22bd0e14-4285-423f-8779-65904ea2f67f",
   "metadata": {},
   "outputs": [],
   "source": [
    "url = 'http://localhost:5000/api/log/get_logs?'\n",
    "sDate = '2022-10-10'\n",
    "eDate = '2022-10-19'\n",
    "if sDate:\n",
    "    url += f'start_date={startDate}&'\n",
    "if eDate:\n",
    "    url += f'end_date={endDate}&'\n",
    "if subsystem:\n",
    "    url += f'subsystems={subsystems}'\n",
    "\n",
    "\n",
    "resp = requests.get(url)"
   ]
  },
  {
   "cell_type": "code",
   "execution_count": 169,
   "id": "c637d0f9-35fd-44a1-9f4f-d89ec15dc02d",
   "metadata": {},
   "outputs": [
    {
     "data": {
      "text/plain": [
       "[{'_id': {'$oid': '634e06c76fbd048486ef0f6b'},\n",
       "  'utc_sent': '2022-10-18 01:52:07.',\n",
       "  'utc_received': {'$date': '2022-10-18T01:52:07.485Z'},\n",
       "  'hostname': \"worker-b'worker-MOSFIRE'\",\n",
       "  'level': 'INFO',\n",
       "  'subsystem': 'MOSFIRE',\n",
       "  'author': 'ttucker',\n",
       "  'SEMID': None,\n",
       "  'PROGID': None,\n",
       "  'message': 'The colorful invader whips llama.'},\n",
       " {'_id': {'$oid': '634e06c76fbd048486ef0f6d'},\n",
       "  'utc_sent': '2022-10-18 01:52:07.',\n",
       "  'utc_received': {'$date': '2022-10-18T01:52:07.512Z'},\n",
       "  'hostname': \"worker-b'worker-MOSFIRE'\",\n",
       "  'level': 'WARN',\n",
       "  'subsystem': 'MOSFIRE',\n",
       "  'author': 'ttucker',\n",
       "  'SEMID': None,\n",
       "  'PROGID': None,\n",
       "  'message': 'The absent vacation coaches summer.'}]"
      ]
     },
     "execution_count": 169,
     "metadata": {},
     "output_type": "execute_result"
    }
   ],
   "source": [
    "resp.json()[0:2]"
   ]
  },
  {
   "cell_type": "code",
   "execution_count": null,
   "id": "df96b98e-a7da-46a7-8596-edd7d3e11e7d",
   "metadata": {},
   "outputs": [],
   "source": []
  }
 ],
 "metadata": {
  "kernelspec": {
   "display_name": "Python 3 (ipykernel)",
   "language": "python",
   "name": "python3"
  },
  "language_info": {
   "codemirror_mode": {
    "name": "ipython",
    "version": 3
   },
   "file_extension": ".py",
   "mimetype": "text/x-python",
   "name": "python",
   "nbconvert_exporter": "python",
   "pygments_lexer": "ipython3",
   "version": "3.9.1"
  }
 },
 "nbformat": 4,
 "nbformat_minor": 5
}
