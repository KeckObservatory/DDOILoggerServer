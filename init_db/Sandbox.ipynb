{
 "cells": [
  {
   "cell_type": "code",
   "execution_count": 193,
   "id": "acca92f1-4f27-4e99-a3dc-c035eb2c4939",
   "metadata": {},
   "outputs": [],
   "source": [
    "from pymongo import MongoClient\n",
    "import os\n",
    "from datetime import datetime, timedelta\n",
    "import requests"
   ]
  },
  {
   "cell_type": "code",
   "execution_count": 63,
   "id": "4e55c423-9736-4a3e-a32e-763eaf109e30",
   "metadata": {},
   "outputs": [],
   "source": [
    "def get_mongodb():\n",
    "    client = MongoClient(port = 27017)\n",
    "    return client['logs']"
   ]
  },
  {
   "cell_type": "code",
   "execution_count": 64,
   "id": "1d44d924-0aeb-4d6a-a9ce-1ad57ee5638c",
   "metadata": {},
   "outputs": [],
   "source": [
    "db_client = get_mongodb()"
   ]
  },
  {
   "cell_type": "code",
   "execution_count": 228,
   "id": "eb40c8f2-b4f4-4abd-bf1e-a8af3219b27a",
   "metadata": {},
   "outputs": [
    {
     "name": "stdout",
     "output_type": "stream",
     "text": [
      "{'utc_received': {'$lt': datetime.datetime(2022, 10, 19, 0, 0), '$gte': datetime.datetime(2022, 10, 10, 0, 0)}, 'subsystem': 'MOSFIRE'}\n"
     ]
    },
    {
     "data": {
      "text/plain": [
       "{'_id': ObjectId('634efc5b4a5a8170a681ae4b'),\n",
       " 'utc_sent': '2022-10-18 19:19:55.',\n",
       " 'utc_received': datetime.datetime(2022, 10, 18, 19, 19, 55, 572000),\n",
       " 'hostname': \"worker-b'worker-MOSFIRE'\",\n",
       " 'level': 'DEBUG',\n",
       " 'subsystem': 'MOSFIRE',\n",
       " 'author': 'ttucker',\n",
       " 'SEMID': None,\n",
       " 'PROGID': None,\n",
       " 'message': 'The glorious biscuit crawls spell.'}"
      ]
     },
     "execution_count": 228,
     "metadata": {},
     "output_type": "execute_result"
    }
   ],
   "source": [
    "startDate = datetime.strptime('2022-10-10', '%Y-%m-%d')\n",
    "endDate = datetime.strptime('2022-10-19', '%Y-%m-%d')\n",
    "subsystem = 'MOSFIRE'\n",
    "query = {}\n",
    "\n",
    "query['utc_received'] = {'$lt': endDate, '$gte': startDate}\n",
    "query['subsystem'] = subsystem\n",
    "print(query)\n",
    "cursor = db_client.logs.find(query)\n",
    "results = [ x for x in cursor ]\n",
    "len(results)\n",
    "results[0]"
   ]
  },
  {
   "cell_type": "code",
   "execution_count": null,
   "id": "ea91bec0-f4d5-4a56-aeae-d6791366f5ba",
   "metadata": {},
   "outputs": [],
   "source": []
  },
  {
   "cell_type": "code",
   "execution_count": 229,
   "id": "22bd0e14-4285-423f-8779-65904ea2f67f",
   "metadata": {},
   "outputs": [
    {
     "name": "stdout",
     "output_type": "stream",
     "text": [
      "http://localhost:5000/api/log/get_logs?start_date=2022-10-10&end_date=2022-10-19&subsystems=MOSFIRE&n_logs=2&\n"
     ]
    }
   ],
   "source": [
    "sDate = '2022-10-10'\n",
    "eDate = '2022-10-19'\n",
    "subsystem = 'MOSFIRE'\n",
    "nLogs = 2\n",
    "\n",
    "def get_logs(subsystem=None, startDate=None, endDate=None, nLogs=None, dateFormat=None):\n",
    "    url = 'http://localhost:5000/api/log/get_logs?'\n",
    "    if startDate:\n",
    "        url += f'start_date={startDate}&'\n",
    "    if endDate:\n",
    "        url += f'end_date={endDate}&'\n",
    "    if subsystem:\n",
    "        url += f'subsystems={subsystem}&'\n",
    "    if nLogs:\n",
    "        url += f'n_logs={nLogs}&'\n",
    "    if dateFormat:\n",
    "        url += f'date_format={dateFormat}'\n",
    "    return url\n",
    "\n",
    "url = get_logs(subsystem, sDate, eDate, nLogs)\n",
    "print(url)\n",
    "resp = requests.get(url)"
   ]
  },
  {
   "cell_type": "code",
   "execution_count": 230,
   "id": "c637d0f9-35fd-44a1-9f4f-d89ec15dc02d",
   "metadata": {},
   "outputs": [
    {
     "data": {
      "text/plain": [
       "[{'_id': {'$oid': '634efc5b4a5a8170a681ae4b'},\n",
       "  'utc_sent': '2022-10-18 19:19:55.',\n",
       "  'utc_received': {'$date': '2022-10-18T19:19:55.572Z'},\n",
       "  'hostname': \"worker-b'worker-MOSFIRE'\",\n",
       "  'level': 'DEBUG',\n",
       "  'subsystem': 'MOSFIRE',\n",
       "  'author': 'ttucker',\n",
       "  'SEMID': None,\n",
       "  'PROGID': None,\n",
       "  'message': 'The glorious biscuit crawls spell.'},\n",
       " {'_id': {'$oid': '634efc5b4a5a8170a681ae4d'},\n",
       "  'utc_sent': '2022-10-18 19:19:55.',\n",
       "  'utc_received': {'$date': '2022-10-18T19:19:55.611Z'},\n",
       "  'hostname': \"worker-b'worker-MOSFIRE'\",\n",
       "  'level': 'ERROR',\n",
       "  'subsystem': 'MOSFIRE',\n",
       "  'author': 'ttucker',\n",
       "  'SEMID': None,\n",
       "  'PROGID': None,\n",
       "  'message': 'The hysterical jot bears mailman.'}]"
      ]
     },
     "execution_count": 230,
     "metadata": {},
     "output_type": "execute_result"
    }
   ],
   "source": [
    "resp.json()"
   ]
  },
  {
   "cell_type": "code",
   "execution_count": 237,
   "id": "df96b98e-a7da-46a7-8596-edd7d3e11e7d",
   "metadata": {},
   "outputs": [
    {
     "name": "stdout",
     "output_type": "stream",
     "text": [
      "http://localhost:5000/api/log/get_logs?start_date=2022-10-18T18:00:00&end_date=2022-10-18T20:00:00&subsystems=MOSFIRE&date_format=%Y-%m-%dT%H:%M:%S\n"
     ]
    },
    {
     "data": {
      "text/plain": [
       "[{'_id': {'$oid': '634efc5b4a5a8170a681ae4b'},\n",
       "  'utc_sent': '2022-10-18 19:19:55.',\n",
       "  'utc_received': {'$date': '2022-10-18T19:19:55.572Z'},\n",
       "  'hostname': \"worker-b'worker-MOSFIRE'\",\n",
       "  'level': 'DEBUG',\n",
       "  'subsystem': 'MOSFIRE',\n",
       "  'author': 'ttucker',\n",
       "  'SEMID': None,\n",
       "  'PROGID': None,\n",
       "  'message': 'The glorious biscuit crawls spell.'},\n",
       " {'_id': {'$oid': '634efc5b4a5a8170a681ae4d'},\n",
       "  'utc_sent': '2022-10-18 19:19:55.',\n",
       "  'utc_received': {'$date': '2022-10-18T19:19:55.611Z'},\n",
       "  'hostname': \"worker-b'worker-MOSFIRE'\",\n",
       "  'level': 'ERROR',\n",
       "  'subsystem': 'MOSFIRE',\n",
       "  'author': 'ttucker',\n",
       "  'SEMID': None,\n",
       "  'PROGID': None,\n",
       "  'message': 'The hysterical jot bears mailman.'}]"
      ]
     },
     "execution_count": 237,
     "metadata": {},
     "output_type": "execute_result"
    }
   ],
   "source": [
    "def get_last_n_minutes_logs(subsystem, minutes, endDate=None):\n",
    "    dateFormat = '%Y-%m-%dT%H:%M:%S'\n",
    "    if not endDate:\n",
    "        endDate = datetime.utcnow()\n",
    "    else:\n",
    "        endDate = datetime.strptime(endDate, dateFormat)\n",
    "    startDate = endDate - timedelta(minutes=minutes)\n",
    "    startDateStr = datetime.strftime(startDate, dateFormat)\n",
    "    endDateStr = datetime.strftime(endDate, dateFormat)\n",
    "    url = get_logs(subsystem, startDateStr, endDateStr, dateFormat=dateFormat)\n",
    "    resp = requests.get(url)\n",
    "    print(url)\n",
    "    return resp\n",
    "\n",
    "minutes=120\n",
    "endDate = '2022-10-18T20:00:00'\n",
    "resp = get_last_n_minutes_logs(subsystem, minutes, endDate)\n",
    "resp.json()[0:2]"
   ]
  },
  {
   "cell_type": "code",
   "execution_count": 238,
   "id": "f6d35784-3c57-49df-8c5d-d5dfe918dcdf",
   "metadata": {},
   "outputs": [
    {
     "name": "stdout",
     "output_type": "stream",
     "text": [
      "http://localhost:5000/api/log/get_logs?subsystems=MOSFIRE&n_logs=2&\n"
     ]
    }
   ],
   "source": [
    "sDate = '2022-10-10'\n",
    "eDate = '2022-10-19'\n",
    "subsystem = 'MOSFIRE'\n",
    "nLogs = 2\n",
    "\n",
    "def get_logs(subsystem=None, startDate=None, endDate=None, nLogs=None, dateFormat=None):\n",
    "    url = 'http://localhost:5000/api/log/get_logs?'\n",
    "    if startDate:\n",
    "        url += f'start_date={startDate}&'\n",
    "    if endDate:\n",
    "        url += f'end_date={endDate}&'\n",
    "    if subsystem:\n",
    "        url += f'subsystems={subsystem}&'\n",
    "    if nLogs:\n",
    "        url += f'n_logs={nLogs}&'\n",
    "    if dateFormat:\n",
    "        url += f'date_format={dateFormat}'\n",
    "    return url\n",
    "\n",
    "url = get_logs(subsystem, None, None, nLogs)\n",
    "print(url)\n",
    "resp = requests.get(url)"
   ]
  },
  {
   "cell_type": "code",
   "execution_count": null,
   "id": "b871e3a9-ed18-4e03-bcc9-ed175dde7fa2",
   "metadata": {},
   "outputs": [],
   "source": []
  }
 ],
 "metadata": {
  "kernelspec": {
   "display_name": "Python 3 (ipykernel)",
   "language": "python",
   "name": "python3"
  },
  "language_info": {
   "codemirror_mode": {
    "name": "ipython",
    "version": 3
   },
   "file_extension": ".py",
   "mimetype": "text/x-python",
   "name": "python",
   "nbconvert_exporter": "python",
   "pygments_lexer": "ipython3",
   "version": "3.9.1"
  }
 },
 "nbformat": 4,
 "nbformat_minor": 5
}
